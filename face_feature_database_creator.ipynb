{
  "nbformat": 4,
  "nbformat_minor": 0,
  "metadata": {
    "colab": {
      "provenance": []
    },
    "kernelspec": {
      "name": "python3",
      "display_name": "Python 3"
    },
    "language_info": {
      "name": "python"
    }
  },
  "cells": [
    {
      "cell_type": "code",
      "execution_count": 1,
      "metadata": {
        "colab": {
          "base_uri": "https://localhost:8080/"
        },
        "id": "ZtB6oSTEPTkL",
        "outputId": "3b8c7ee8-e643-49e7-b5ab-8b724673549f"
      },
      "outputs": [
        {
          "output_type": "stream",
          "name": "stdout",
          "text": [
            "Mounted at /content/drive\n"
          ]
        }
      ],
      "source": [
        "from google.colab import drive\n",
        "drive.mount('/content/drive')"
      ]
    },
    {
      "cell_type": "code",
      "source": [
        "%cd \"drive/My Drive/Learning/\""
      ],
      "metadata": {
        "colab": {
          "base_uri": "https://localhost:8080/"
        },
        "id": "sLOI1HTgPZgo",
        "outputId": "a6dae539-0197-4bc5-d3e4-d5407d602c4e"
      },
      "execution_count": 2,
      "outputs": [
        {
          "output_type": "stream",
          "name": "stdout",
          "text": [
            "/content/drive/My Drive/Learning\n"
          ]
        }
      ]
    },
    {
      "cell_type": "code",
      "source": [
        "!pwd"
      ],
      "metadata": {
        "colab": {
          "base_uri": "https://localhost:8080/"
        },
        "id": "XzJGNVsmPZj3",
        "outputId": "242017c4-fd59-45ae-aa78-e3a0bf97929f"
      },
      "execution_count": 3,
      "outputs": [
        {
          "output_type": "stream",
          "name": "stdout",
          "text": [
            "/content/drive/My Drive/Learning\n"
          ]
        }
      ]
    },
    {
      "cell_type": "code",
      "source": [
        "import os\n",
        "import pandas as pd\n",
        "\n",
        "import cv2\n",
        "import numpy as np\n",
        "import dlib\n",
        "import matplotlib.pyplot as plt\n",
        "\n",
        "def rect_to_bb(rect):\n",
        "\t# take a bounding predicted by dlib and convert it\n",
        "\t# to the format (x, y, w, h) as we would normally do\n",
        "\t# with OpenCV\n",
        "\tx = rect.left()\n",
        "\ty = rect.top()\n",
        "\tw = rect.right() - x\n",
        "\th = rect.bottom() - y\n",
        "\n",
        "\t# return a tuple of (x, y, w, h)\n",
        "\treturn (x, y, w, h)\n",
        "# function to convert dlib.full_object_detection to numpy array\n",
        "def shape_to_np(shape, dtype=\"int\"):\n",
        "\tcoords = np.zeros((68, 2), dtype=dtype)\n",
        "\tfor i in range(0, 68):\n",
        "\t\tcoords[i] = (shape.part(i).x, shape.part(i).y)\n",
        "\treturn coords"
      ],
      "metadata": {
        "id": "jpjTdd6_PZnZ"
      },
      "execution_count": 22,
      "outputs": []
    },
    {
      "cell_type": "code",
      "source": [
        "def lips(image,points,dest_path,image_name):\n",
        "    x1=points[48][0]\n",
        "    x2=points[54][0]\n",
        "    y1=points[51][1]\n",
        "    y2=points[58][1]\n",
        "    # crop=image[y1-10:y2+10,x1-10:x2+10]\n",
        "\n",
        "    outputNameofImage = dest_path+\"/crop_images/lips/\"+image_name\n",
        "    # print(\"Saving output image to\", outputNameofImage)\n",
        "    try:\n",
        "      crop=image[y1-10:y2+10,x1-10:x2+10]\n",
        "      cv2.imwrite(outputNameofImage, crop)\n",
        "    except:\n",
        "      crop=image[y1:y2,x1:x2]\n",
        "      cv2.imwrite(outputNameofImage, crop)\n",
        "    # plt.imshow(cv2.cvtColor(crop,cv2.COLOR_BGR2RGB))\n",
        "    # plt.show()\n",
        "\n",
        "def eyes(image,points,dest_path,image_name):\n",
        "    x1=points[37][0]\n",
        "    x2=points[47][0]\n",
        "    y1=points[36][1]\n",
        "    y2=points[45][1]\n",
        "    # crop=image[y1-10:y2+10,x1-10:x2+10]\n",
        "\n",
        "    outputNameofImage = dest_path+\"/crop_images/eyes/\"+image_name\n",
        "    # print(\"Saving output image to\", outputNameofImage)\n",
        "    try:\n",
        "      crop=image[y1-10:y2+10,x1-10:x2+10]\n",
        "      cv2.imwrite(outputNameofImage, crop)\n",
        "    except:\n",
        "      crop=image[y1:y2,x1:x2]\n",
        "      cv2.imwrite(outputNameofImage, crop)\n",
        "    # plt.imshow(cv2.cvtColor(crop,cv2.COLOR_BGR2RGB))\n",
        "    # plt.show()\n",
        "\n",
        "def eyebrow(image,points,dest_path,image_name):\n",
        "    x1=points[17][0]\n",
        "    x2=points[26][0]\n",
        "    y1=points[19][1]\n",
        "    y2=points[37][1]\n",
        "    # crop=image[y1-10:y2+10,x1-10:x2+10]\n",
        "\n",
        "    outputNameofImage = dest_path+\"/crop_images/eyebrows/\"+image_name\n",
        "    # print(\"Saving output image to\", outputNameofImage)\n",
        "    try:\n",
        "      crop=image[y1-10:y2+10,x1-10:x2+10]\n",
        "      cv2.imwrite(outputNameofImage, crop)\n",
        "    except:\n",
        "      crop=image[y1:y2,x1:x2]\n",
        "      cv2.imwrite(outputNameofImage, crop)\n",
        "    # plt.imshow(cv2.cvtColor(crop,cv2.COLOR_BGR2RGB))\n",
        "    # plt.show()\n",
        "\n",
        "def chin(image,points,dest_path,image_name):\n",
        "    x1=points[5][0]\n",
        "    x2=points[11][0]\n",
        "    y1=points[57][1]\n",
        "    y2=points[8][1]\n",
        "    # crop=image[y1:y2+10,x1-10:x2+10]\n",
        "\n",
        "    outputNameofImage = dest_path+\"/crop_images/chin/\"+image_name\n",
        "    # print(\"Saving output image to\", outputNameofImage)\n",
        "    try:\n",
        "      crop=image[y1-10:y2+10,x1-10:x2+10]\n",
        "      cv2.imwrite(outputNameofImage, crop)\n",
        "    except:\n",
        "      crop=image[y1:y2,x1:x2]\n",
        "      cv2.imwrite(outputNameofImage, crop)\n",
        "    # plt.imshow(cv2.cvtColor(crop,cv2.COLOR_BGR2RGB))\n",
        "    # plt.show()\n",
        "\n",
        "def eye_eyebrow(image,points,dest_path,image_name):\n",
        "    x1=points[17][0]\n",
        "    x2=points[26][0]\n",
        "    y1=points[19][1]\n",
        "    y2=points[28][1]\n",
        "    # crop=image[y1-10:y2+10,x1-10:x2+10]\n",
        "\n",
        "    outputNameofImage = dest_path+\"/crop_images/eyebrows_eye/\"+image_name\n",
        "    # print(\"Saving output image to\", outputNameofImage)\n",
        "    try:\n",
        "      crop=image[y1-10:y2+10,x1-10:x2+10]\n",
        "      cv2.imwrite(outputNameofImage, crop)\n",
        "    except:\n",
        "      crop=image[y1:y2,x1:x2]\n",
        "      cv2.imwrite(outputNameofImage, crop)\n",
        "    # plt.imshow(cv2.cvtColor(crop,cv2.COLOR_BGR2RGB))\n",
        "    # plt.show()\n",
        "\n",
        "def nose(image,points,dest_path,image_name):\n",
        "    x1=points[31][0]\n",
        "    x2=points[35][0]\n",
        "    y1=points[27][1]\n",
        "    y2=points[33][1]\n",
        "    # crop=image[y1-10:y2+10,x1-10:x2+10]\n",
        "\n",
        "    outputNameofImage = dest_path+\"/crop_images/nose/\"+image_name\n",
        "    # print(\"Saving output image to\", outputNameofImage)\n",
        "    try:\n",
        "      crop=image[y1-10:y2+10,x1-10:x2+10]\n",
        "      cv2.imwrite(outputNameofImage, crop)\n",
        "    except:\n",
        "      crop=image[y1:y2,x1:x2]\n",
        "      cv2.imwrite(outputNameofImage, crop)\n",
        "    # plt.imshow(cv2.cvtColor(crop,cv2.COLOR_BGR2RGB))\n",
        "    # plt.show()"
      ],
      "metadata": {
        "id": "EmnGT6vaPZtV"
      },
      "execution_count": 23,
      "outputs": []
    },
    {
      "cell_type": "code",
      "source": [
        "def face_feature_data_creator(ori_path,dest_path,gender,person):\n",
        "\n",
        "  image_name = []\n",
        "  face_rois = []\n",
        "  face_landmarks = []\n",
        "  image_dimention = []\n",
        "  files = os.listdir(ori_path+gender+'/'+person+\"_1/\")\n",
        "\n",
        "  predictor = dlib.shape_predictor(\"shape_predictor_68_face_landmarks.dat\")\n",
        "  detector = dlib.get_frontal_face_detector()\n",
        "\n",
        "  for folder in [person]:\n",
        "      if os.path.exists(os.path.join(dest_path+gender,folder))==False:\n",
        "        # print(os.path.join(dest_path+gender+'/'+person,folder))\n",
        "        os.makedirs(os.path.join(dest_path+gender,folder))\n",
        "\n",
        "  for folder in [\"crop_images\",\"full_images\"]:\n",
        "      if os.path.exists(os.path.join(dest_path+gender+'/'+person,folder))==False:\n",
        "        # print(os.path.join(dest_path+gender+'/'+person,folder))\n",
        "        os.makedirs(os.path.join(dest_path+gender+'/'+person,folder))\n",
        "  required_folder = [\n",
        "      \"lips\",\n",
        "      \"eyes\",\n",
        "      \"eyebrows\",\n",
        "      \"chin\",\n",
        "      \"eyebrows_eye\",\n",
        "      \"nose\"\n",
        "  ]\n",
        "  for folder in required_folder:\n",
        "      if os.path.exists(os.path.join(dest_path+gender+'/'+person+'/crop_images',folder))==False:\n",
        "        # print(os.path.join(dest_path+gender+'/'+person,folder))\n",
        "        os.makedirs(os.path.join(dest_path+gender+'/'+person+'/crop_images',folder))\n",
        "\n",
        "  for folder in [\"front\",\"front_left\",\"front_right\"]:\n",
        "      if os.path.exists(os.path.join(dest_path+gender+'/'+person+'/full_images',folder))==False:\n",
        "        # print(os.path.join(dest_path+gender+'/'+person,folder))\n",
        "        os.makedirs(os.path.join(dest_path+gender+'/'+person+'/full_images',folder))\n",
        "\n",
        "\n",
        "  for i in files:\n",
        "    # print(ori_path+i)\n",
        "    image = cv2.imread(ori_path+gender+'/'+person+\"_1/\"+i)\n",
        "\n",
        "    gray = cv2.cvtColor(image,cv2.COLOR_BGR2GRAY)\n",
        "\n",
        "    # loading the classifiers with respected files\n",
        "    faces = detector(gray)\n",
        "    # print(faces)\n",
        "    if len(faces)==1:\n",
        "      try:\n",
        "        (x, y, w, h) = rect_to_bb(faces[0])\n",
        "        landmarks = predictor(gray, faces[0])\n",
        "        points = shape_to_np(landmarks)\n",
        "        image_name.append(ori_path+gender+'/'+person+\"_1/\"+i)\n",
        "        face_rois.append((x, y, w, h))\n",
        "        face_landmarks.append(points)\n",
        "        height, width, _ = image.shape\n",
        "        image_dimention.append((width,height))\n",
        "        lips(image,points,dest_path+gender+'/'+person,i)\n",
        "\n",
        "        eyes(image,points,dest_path+gender+'/'+person,i)\n",
        "        eyebrow(image,points,dest_path+gender+'/'+person,i)\n",
        "        chin(image,points,dest_path+gender+'/'+person,i)\n",
        "        eye_eyebrow(image,points,dest_path+gender+'/'+person,i)\n",
        "        nose(image,points,dest_path+gender+'/'+person,i)\n",
        "\n",
        "        x1=points[30][0]\n",
        "        x2=points[2][0]\n",
        "        x3=points[14][0]\n",
        "        y1=points[30][1]\n",
        "        y2=points[2][1]\n",
        "        y3=points[14][1]\n",
        "        # left_avg = ((x2-x1)+(y2-y1))/2\n",
        "        # right_avg = ((x3-x1)+(y3-y1))/2\n",
        "        left_avg = np.sqrt((x2-x1)**2+(y2-y1)**2)\n",
        "        right_avg = np.sqrt((x3-x1)**2+(y3-y1)**2)\n",
        "        avg = left_avg - right_avg\n",
        "        outputNameofImage = \"\"\n",
        "        if abs(avg) < 20:\n",
        "          # print(\"front\")\n",
        "          # print(dest_path+gender+'/'+person+'/full_images/front'+image_name)\n",
        "          outputNameofImage = dest_path+gender+'/'+person+'/full_images/front/'+i\n",
        "\n",
        "        elif avg < -20:\n",
        "          # print(\"left\")\n",
        "          outputNameofImage = dest_path+gender+'/'+person+'/full_images/front_left/'+i\n",
        "        else:\n",
        "          # print(\"right\")\n",
        "          outputNameofImage = dest_path+gender+'/'+person+'/full_images/front_right/'+i\n",
        "\n",
        "        # print(\"Saving output image to\", outputNameofImage)\n",
        "        # print(len(outputNameofImage))\n",
        "        if len(outputNameofImage)>1:\n",
        "          cv2.imwrite(outputNameofImage, image)\n",
        "      except:\n",
        "        print(ori_path+gender+'/'+person+\"_1/\"+i)\n",
        "\n",
        "  return image_name,face_rois,face_landmarks,image_dimention"
      ],
      "metadata": {
        "id": "vFUoqY4CPZwV"
      },
      "execution_count": 46,
      "outputs": []
    },
    {
      "cell_type": "code",
      "source": [
        "ori_path = \"/content/drive/My Drive/Learning/sample/\"\n",
        "dest_path = \"/content/drive/My Drive/Learning/sample/\"\n",
        "# gender = \"female\"\n",
        "# person = \"dishapatani\"\n",
        "persons = {\"deepikapadukone\":\"female\",\"dishapatani\":\"female\",\"shirleysetia\":\"female\"}"
      ],
      "metadata": {
        "id": "2Dv0gpqDPZzj"
      },
      "execution_count": 47,
      "outputs": []
    },
    {
      "cell_type": "code",
      "source": [
        "image_name_ = []\n",
        "face_rois_ = []\n",
        "face_landmarks_ = []\n",
        "image_dimention_ = []\n",
        "for person in persons.keys():\n",
        "  im,fs_roi,fs_landmark,img_dim = face_feature_data_creator(ori_path,dest_path,persons[person],person)\n",
        "  image_name_.extend(im)\n",
        "  face_rois_.extend(fs_roi)\n",
        "  face_landmarks_.extend(fs_landmark)\n",
        "  image_dimention_.extend(img_dim)"
      ],
      "metadata": {
        "colab": {
          "base_uri": "https://localhost:8080/"
        },
        "id": "e6ckKLA-PZ3B",
        "outputId": "82b60245-316e-47ae-875a-d5e18ddbd183"
      },
      "execution_count": 48,
      "outputs": [
        {
          "output_type": "stream",
          "name": "stdout",
          "text": [
            "/content/drive/My Drive/Learning/sample/female/deepikapadukone_1/2018-11-20_11-32-00_UTC_3.jpg\n",
            "/content/drive/My Drive/Learning/sample/female/shirleysetia_1/2014-11-07_10-49-25_UTC.jpg\n"
          ]
        }
      ]
    },
    {
      "cell_type": "code",
      "source": [
        "len(image_name_)"
      ],
      "metadata": {
        "colab": {
          "base_uri": "https://localhost:8080/"
        },
        "id": "6wuPF34APZ6m",
        "outputId": "8ecba2a3-cf2f-48ca-f071-e0775079d4bd"
      },
      "execution_count": 34,
      "outputs": [
        {
          "output_type": "execute_result",
          "data": {
            "text/plain": [
              "29"
            ]
          },
          "metadata": {},
          "execution_count": 34
        }
      ]
    },
    {
      "cell_type": "code",
      "source": [
        "len(face_rois_)"
      ],
      "metadata": {
        "colab": {
          "base_uri": "https://localhost:8080/"
        },
        "id": "x_k5JZ6cPZ94",
        "outputId": "c44dba26-9beb-40e5-bf65-e093af1deb8c"
      },
      "execution_count": 35,
      "outputs": [
        {
          "output_type": "execute_result",
          "data": {
            "text/plain": [
              "29"
            ]
          },
          "metadata": {},
          "execution_count": 35
        }
      ]
    },
    {
      "cell_type": "code",
      "source": [
        "len(face_landmarks_)"
      ],
      "metadata": {
        "colab": {
          "base_uri": "https://localhost:8080/"
        },
        "id": "FjbST7tHxnj_",
        "outputId": "3b5fc5fc-bf40-4fbe-e5b9-c07276a456ce"
      },
      "execution_count": 36,
      "outputs": [
        {
          "output_type": "execute_result",
          "data": {
            "text/plain": [
              "29"
            ]
          },
          "metadata": {},
          "execution_count": 36
        }
      ]
    },
    {
      "cell_type": "code",
      "source": [
        "df = pd.DataFrame({\"image_name\":image_name_,\"face_rois\":face_rois_,\"face_landmarks\":face_landmarks_,\"image_dimention\":image_dimention_})"
      ],
      "metadata": {
        "id": "uV9SS-mTxpWZ"
      },
      "execution_count": 49,
      "outputs": []
    },
    {
      "cell_type": "code",
      "source": [
        "df.to_csv('/content/drive/My Drive/Learning/sample/details.csv',index=False)"
      ],
      "metadata": {
        "id": "3zQydTkWycbE"
      },
      "execution_count": 52,
      "outputs": []
    },
    {
      "cell_type": "code",
      "source": [],
      "metadata": {
        "id": "ghZ3ZnNrzXmY"
      },
      "execution_count": null,
      "outputs": []
    }
  ]
}